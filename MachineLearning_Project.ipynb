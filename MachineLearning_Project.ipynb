{
 "cells": [
  {
   "cell_type": "markdown",
   "id": "97e11fe5",
   "metadata": {},
   "source": [
    "# MACHINE LEARNING PROJECT"
   ]
  },
  {
   "cell_type": "raw",
   "id": "d68c498d",
   "metadata": {},
   "source": [
    "We will be using the Wine recognition Dataset."
   ]
  },
  {
   "cell_type": "markdown",
   "id": "58622e98",
   "metadata": {},
   "source": [
    "The Wine Recognition Dataset is a multivariate dataset.\n",
    "\n",
    "It is the result of a chemical analysis of wines grown in the same region in Italy by three different cultivators. \n",
    "\n",
    "There are thirteen different measurements taken."
   ]
  },
  {
   "cell_type": "markdown",
   "id": "7a0c7b4a",
   "metadata": {},
   "source": [
    "Accordingly, the Wine is classified into three types."
   ]
  },
  {
   "cell_type": "markdown",
   "id": "41bb5a5c",
   "metadata": {},
   "source": [
    "We will be building a classification model that can detect the type of wine.\n",
    "\n",
    "We'll fetch the dataset from Scikit Learn Library.\n",
    "Check Variety of Datasets avaliable within the library\n",
    "https://scikit-learn.org/stable/datasets"
   ]
  },
  {
   "cell_type": "markdown",
   "id": "91f47fa4",
   "metadata": {},
   "source": [
    "## STEP 1 : IMPORTING THE DATASET"
   ]
  },
  {
   "cell_type": "code",
   "execution_count": 10,
   "id": "69f8cbec",
   "metadata": {},
   "outputs": [],
   "source": [
    "from sklearn.datasets import load_wine\n",
    "wine = load_wine()"
   ]
  },
  {
   "cell_type": "code",
   "execution_count": 11,
   "id": "c8ffc530",
   "metadata": {},
   "outputs": [
    {
     "data": {
      "text/plain": [
       "{'data': array([[1.423e+01, 1.710e+00, 2.430e+00, ..., 1.040e+00, 3.920e+00,\n",
       "         1.065e+03],\n",
       "        [1.320e+01, 1.780e+00, 2.140e+00, ..., 1.050e+00, 3.400e+00,\n",
       "         1.050e+03],\n",
       "        [1.316e+01, 2.360e+00, 2.670e+00, ..., 1.030e+00, 3.170e+00,\n",
       "         1.185e+03],\n",
       "        ...,\n",
       "        [1.327e+01, 4.280e+00, 2.260e+00, ..., 5.900e-01, 1.560e+00,\n",
       "         8.350e+02],\n",
       "        [1.317e+01, 2.590e+00, 2.370e+00, ..., 6.000e-01, 1.620e+00,\n",
       "         8.400e+02],\n",
       "        [1.413e+01, 4.100e+00, 2.740e+00, ..., 6.100e-01, 1.600e+00,\n",
       "         5.600e+02]]),\n",
       " 'target': array([0, 0, 0, 0, 0, 0, 0, 0, 0, 0, 0, 0, 0, 0, 0, 0, 0, 0, 0, 0, 0, 0,\n",
       "        0, 0, 0, 0, 0, 0, 0, 0, 0, 0, 0, 0, 0, 0, 0, 0, 0, 0, 0, 0, 0, 0,\n",
       "        0, 0, 0, 0, 0, 0, 0, 0, 0, 0, 0, 0, 0, 0, 0, 1, 1, 1, 1, 1, 1, 1,\n",
       "        1, 1, 1, 1, 1, 1, 1, 1, 1, 1, 1, 1, 1, 1, 1, 1, 1, 1, 1, 1, 1, 1,\n",
       "        1, 1, 1, 1, 1, 1, 1, 1, 1, 1, 1, 1, 1, 1, 1, 1, 1, 1, 1, 1, 1, 1,\n",
       "        1, 1, 1, 1, 1, 1, 1, 1, 1, 1, 1, 1, 1, 1, 1, 1, 1, 1, 1, 1, 2, 2,\n",
       "        2, 2, 2, 2, 2, 2, 2, 2, 2, 2, 2, 2, 2, 2, 2, 2, 2, 2, 2, 2, 2, 2,\n",
       "        2, 2, 2, 2, 2, 2, 2, 2, 2, 2, 2, 2, 2, 2, 2, 2, 2, 2, 2, 2, 2, 2,\n",
       "        2, 2]),\n",
       " 'frame': None,\n",
       " 'target_names': array(['class_0', 'class_1', 'class_2'], dtype='<U7'),\n",
       " 'DESCR': '.. _wine_dataset:\\n\\nWine recognition dataset\\n------------------------\\n\\n**Data Set Characteristics:**\\n\\n    :Number of Instances: 178 (50 in each of three classes)\\n    :Number of Attributes: 13 numeric, predictive attributes and the class\\n    :Attribute Information:\\n \\t\\t- Alcohol\\n \\t\\t- Malic acid\\n \\t\\t- Ash\\n\\t\\t- Alcalinity of ash  \\n \\t\\t- Magnesium\\n\\t\\t- Total phenols\\n \\t\\t- Flavanoids\\n \\t\\t- Nonflavanoid phenols\\n \\t\\t- Proanthocyanins\\n\\t\\t- Color intensity\\n \\t\\t- Hue\\n \\t\\t- OD280/OD315 of diluted wines\\n \\t\\t- Proline\\n\\n    - class:\\n            - class_0\\n            - class_1\\n            - class_2\\n\\t\\t\\n    :Summary Statistics:\\n    \\n    ============================= ==== ===== ======= =====\\n                                   Min   Max   Mean     SD\\n    ============================= ==== ===== ======= =====\\n    Alcohol:                      11.0  14.8    13.0   0.8\\n    Malic Acid:                   0.74  5.80    2.34  1.12\\n    Ash:                          1.36  3.23    2.36  0.27\\n    Alcalinity of Ash:            10.6  30.0    19.5   3.3\\n    Magnesium:                    70.0 162.0    99.7  14.3\\n    Total Phenols:                0.98  3.88    2.29  0.63\\n    Flavanoids:                   0.34  5.08    2.03  1.00\\n    Nonflavanoid Phenols:         0.13  0.66    0.36  0.12\\n    Proanthocyanins:              0.41  3.58    1.59  0.57\\n    Colour Intensity:              1.3  13.0     5.1   2.3\\n    Hue:                          0.48  1.71    0.96  0.23\\n    OD280/OD315 of diluted wines: 1.27  4.00    2.61  0.71\\n    Proline:                       278  1680     746   315\\n    ============================= ==== ===== ======= =====\\n\\n    :Missing Attribute Values: None\\n    :Class Distribution: class_0 (59), class_1 (71), class_2 (48)\\n    :Creator: R.A. Fisher\\n    :Donor: Michael Marshall (MARSHALL%PLU@io.arc.nasa.gov)\\n    :Date: July, 1988\\n\\nThis is a copy of UCI ML Wine recognition datasets.\\nhttps://archive.ics.uci.edu/ml/machine-learning-databases/wine/wine.data\\n\\nThe data is the results of a chemical analysis of wines grown in the same\\nregion in Italy by three different cultivators. There are thirteen different\\nmeasurements taken for different constituents found in the three types of\\nwine.\\n\\nOriginal Owners: \\n\\nForina, M. et al, PARVUS - \\nAn Extendible Package for Data Exploration, Classification and Correlation. \\nInstitute of Pharmaceutical and Food Analysis and Technologies,\\nVia Brigata Salerno, 16147 Genoa, Italy.\\n\\nCitation:\\n\\nLichman, M. (2013). UCI Machine Learning Repository\\n[https://archive.ics.uci.edu/ml]. Irvine, CA: University of California,\\nSchool of Information and Computer Science. \\n\\n.. topic:: References\\n\\n  (1) S. Aeberhard, D. Coomans and O. de Vel, \\n  Comparison of Classifiers in High Dimensional Settings, \\n  Tech. Rep. no. 92-02, (1992), Dept. of Computer Science and Dept. of  \\n  Mathematics and Statistics, James Cook University of North Queensland. \\n  (Also submitted to Technometrics). \\n\\n  The data was used with many others for comparing various \\n  classifiers. The classes are separable, though only RDA \\n  has achieved 100% correct classification. \\n  (RDA : 100%, QDA 99.4%, LDA 98.9%, 1NN 96.1% (z-transformed data)) \\n  (All results using the leave-one-out technique) \\n\\n  (2) S. Aeberhard, D. Coomans and O. de Vel, \\n  \"THE CLASSIFICATION PERFORMANCE OF RDA\" \\n  Tech. Rep. no. 92-01, (1992), Dept. of Computer Science and Dept. of \\n  Mathematics and Statistics, James Cook University of North Queensland. \\n  (Also submitted to Journal of Chemometrics).\\n',\n",
       " 'feature_names': ['alcohol',\n",
       "  'malic_acid',\n",
       "  'ash',\n",
       "  'alcalinity_of_ash',\n",
       "  'magnesium',\n",
       "  'total_phenols',\n",
       "  'flavanoids',\n",
       "  'nonflavanoid_phenols',\n",
       "  'proanthocyanins',\n",
       "  'color_intensity',\n",
       "  'hue',\n",
       "  'od280/od315_of_diluted_wines',\n",
       "  'proline']}"
      ]
     },
     "execution_count": 11,
     "metadata": {},
     "output_type": "execute_result"
    }
   ],
   "source": [
    "wine"
   ]
  },
  {
   "cell_type": "code",
   "execution_count": 12,
   "id": "f9864ad9",
   "metadata": {},
   "outputs": [
    {
     "data": {
      "text/plain": [
       "array([1.32e+01, 1.78e+00, 2.14e+00, 1.12e+01, 1.00e+02, 2.65e+00,\n",
       "       2.76e+00, 2.60e-01, 1.28e+00, 4.38e+00, 1.05e+00, 3.40e+00,\n",
       "       1.05e+03])"
      ]
     },
     "execution_count": 12,
     "metadata": {},
     "output_type": "execute_result"
    }
   ],
   "source": [
    "wine.data[1]"
   ]
  },
  {
   "cell_type": "code",
   "execution_count": 13,
   "id": "745bbc4f",
   "metadata": {},
   "outputs": [
    {
     "data": {
      "text/plain": [
       "array([1.317e+01, 2.590e+00, 2.370e+00, 2.000e+01, 1.200e+02, 1.650e+00,\n",
       "       6.800e-01, 5.300e-01, 1.460e+00, 9.300e+00, 6.000e-01, 1.620e+00,\n",
       "       8.400e+02])"
      ]
     },
     "execution_count": 13,
     "metadata": {},
     "output_type": "execute_result"
    }
   ],
   "source": [
    "wine.data[176]"
   ]
  },
  {
   "cell_type": "markdown",
   "id": "ba3d8bee",
   "metadata": {},
   "source": [
    "\n",
    "## STEP 2 : CLEANING THE DATA\n",
    "\n",
    "As the dataset is the part of Scikit Learn Library, it is already cleaned.\n",
    "So, we don't have to worry about step 2."
   ]
  },
  {
   "cell_type": "markdown",
   "id": "07ffb8f7",
   "metadata": {},
   "source": [
    "## STEP 3 : SPLITTING THE DATA\n",
    "\n",
    "For training our machine learning model, we need to split the data into training and testing parts. \n",
    "\n",
    "So, we will follow some conventions.\n",
    "\n",
    "In Machine Learning X is assumed to be INPUT and Y is assumed to be OUTPUT.\n",
    "Means, in our case X will be the TRANING DATA and Y will be the TESTING/TARGET DATA.\n"
   ]
  },
  {
   "cell_type": "code",
   "execution_count": 14,
   "id": "afb81971",
   "metadata": {},
   "outputs": [
    {
     "data": {
      "text/plain": [
       "array([[1.423e+01, 1.710e+00, 2.430e+00, ..., 1.040e+00, 3.920e+00,\n",
       "        1.065e+03],\n",
       "       [1.320e+01, 1.780e+00, 2.140e+00, ..., 1.050e+00, 3.400e+00,\n",
       "        1.050e+03],\n",
       "       [1.316e+01, 2.360e+00, 2.670e+00, ..., 1.030e+00, 3.170e+00,\n",
       "        1.185e+03],\n",
       "       ...,\n",
       "       [1.327e+01, 4.280e+00, 2.260e+00, ..., 5.900e-01, 1.560e+00,\n",
       "        8.350e+02],\n",
       "       [1.317e+01, 2.590e+00, 2.370e+00, ..., 6.000e-01, 1.620e+00,\n",
       "        8.400e+02],\n",
       "       [1.413e+01, 4.100e+00, 2.740e+00, ..., 6.100e-01, 1.600e+00,\n",
       "        5.600e+02]])"
      ]
     },
     "execution_count": 14,
     "metadata": {},
     "output_type": "execute_result"
    }
   ],
   "source": [
    "#Let's have a look at the data\n",
    "wine.data"
   ]
  },
  {
   "cell_type": "markdown",
   "id": "2c9ae292",
   "metadata": {},
   "source": [
    "The data is massive in an array format which contains a set of 178 records under 13 attributes -\n",
    "Alcohol,\n",
    "Malic acid,\n",
    "Ash,\n",
    "Alcalinity of ash,\n",
    "Magnesium,\n",
    "Total phenols,\n",
    "Flavanoids,\n",
    "Nonflavanoid phenols,\n",
    "Proanthocyanins,\n",
    "Color intensity,\n",
    "Hue,\n",
    "OD280/OD315 of diluted wines,\n",
    "Proline,\n",
    "\n",
    "Each type of wine is represented as :\n",
    "class_0\n",
    "class_1\n",
    "class_2\n",
    "https://archive.ics.uci.edu/ml/datasets/wine"
   ]
  },
  {
   "cell_type": "markdown",
   "id": "2e442b79",
   "metadata": {},
   "source": [
    "### Let's look at the Target"
   ]
  },
  {
   "cell_type": "code",
   "execution_count": 15,
   "id": "c2c06d8c",
   "metadata": {},
   "outputs": [
    {
     "data": {
      "text/plain": [
       "array([0, 0, 0, 0, 0, 0, 0, 0, 0, 0, 0, 0, 0, 0, 0, 0, 0, 0, 0, 0, 0, 0,\n",
       "       0, 0, 0, 0, 0, 0, 0, 0, 0, 0, 0, 0, 0, 0, 0, 0, 0, 0, 0, 0, 0, 0,\n",
       "       0, 0, 0, 0, 0, 0, 0, 0, 0, 0, 0, 0, 0, 0, 0, 1, 1, 1, 1, 1, 1, 1,\n",
       "       1, 1, 1, 1, 1, 1, 1, 1, 1, 1, 1, 1, 1, 1, 1, 1, 1, 1, 1, 1, 1, 1,\n",
       "       1, 1, 1, 1, 1, 1, 1, 1, 1, 1, 1, 1, 1, 1, 1, 1, 1, 1, 1, 1, 1, 1,\n",
       "       1, 1, 1, 1, 1, 1, 1, 1, 1, 1, 1, 1, 1, 1, 1, 1, 1, 1, 1, 1, 2, 2,\n",
       "       2, 2, 2, 2, 2, 2, 2, 2, 2, 2, 2, 2, 2, 2, 2, 2, 2, 2, 2, 2, 2, 2,\n",
       "       2, 2, 2, 2, 2, 2, 2, 2, 2, 2, 2, 2, 2, 2, 2, 2, 2, 2, 2, 2, 2, 2,\n",
       "       2, 2])"
      ]
     },
     "execution_count": 15,
     "metadata": {},
     "output_type": "execute_result"
    }
   ],
   "source": [
    "wine.target"
   ]
  },
  {
   "cell_type": "markdown",
   "id": "8fcad35a",
   "metadata": {},
   "source": [
    "\n",
    "\n",
    "\n",
    "\n",
    "Target shows the type of wine to predict.\n",
    "\n",
    "So, now let's assign X and Y to our data."
   ]
  },
  {
   "cell_type": "code",
   "execution_count": 16,
   "id": "feecbb9e",
   "metadata": {},
   "outputs": [],
   "source": [
    "# Store the feature matrix (X): input and response vector(Y): output (pre-labelled answers)\n",
    "X = wine.data\n",
    "Y = wine.target"
   ]
  },
  {
   "cell_type": "markdown",
   "id": "6f6d9d50",
   "metadata": {},
   "source": [
    "In the dataset we have 13 attributes.\n",
    "These attributes are called as features in Machine Learning.\n",
    "i.e Features of the Wine.\n",
    "\n",
    "Similarly, we have classes in our dataset.\n",
    "These classes are called as targets in Machine Learning.\n",
    "i.e Class to predict."
   ]
  },
  {
   "cell_type": "code",
   "execution_count": 17,
   "id": "704ae307",
   "metadata": {},
   "outputs": [],
   "source": [
    "feature_names = wine.feature_names"
   ]
  },
  {
   "cell_type": "code",
   "execution_count": 18,
   "id": "1c48c1f4",
   "metadata": {},
   "outputs": [
    {
     "data": {
      "text/plain": [
       "['alcohol',\n",
       " 'malic_acid',\n",
       " 'ash',\n",
       " 'alcalinity_of_ash',\n",
       " 'magnesium',\n",
       " 'total_phenols',\n",
       " 'flavanoids',\n",
       " 'nonflavanoid_phenols',\n",
       " 'proanthocyanins',\n",
       " 'color_intensity',\n",
       " 'hue',\n",
       " 'od280/od315_of_diluted_wines',\n",
       " 'proline']"
      ]
     },
     "execution_count": 18,
     "metadata": {},
     "output_type": "execute_result"
    }
   ],
   "source": [
    "# let's have a look at features of the wine.\n",
    "feature_names"
   ]
  },
  {
   "cell_type": "code",
   "execution_count": 19,
   "id": "57526792",
   "metadata": {},
   "outputs": [],
   "source": [
    "target_names = wine.target_names"
   ]
  },
  {
   "cell_type": "code",
   "execution_count": 20,
   "id": "818db0ad",
   "metadata": {},
   "outputs": [
    {
     "data": {
      "text/plain": [
       "array(['class_0', 'class_1', 'class_2'], dtype='<U7')"
      ]
     },
     "execution_count": 20,
     "metadata": {},
     "output_type": "execute_result"
    }
   ],
   "source": [
    "# let's have a look at targets of the wine.\n",
    "target_names"
   ]
  },
  {
   "cell_type": "code",
   "execution_count": 21,
   "id": "9d98e85a",
   "metadata": {},
   "outputs": [
    {
     "data": {
      "text/plain": [
       "numpy.ndarray"
      ]
     },
     "execution_count": 21,
     "metadata": {},
     "output_type": "execute_result"
    }
   ],
   "source": [
    "# Recalling the type of array\n",
    "\n",
    "X = wine.data\n",
    "Y = wine.target\n",
    "\n",
    "type(X)\n",
    "#type(Y)"
   ]
  },
  {
   "cell_type": "markdown",
   "id": "56cece6d",
   "metadata": {},
   "source": [
    "### Let's split the data"
   ]
  },
  {
   "cell_type": "code",
   "execution_count": 22,
   "id": "d19b79f8",
   "metadata": {},
   "outputs": [],
   "source": [
    "# Splitting the data into training and testing sets\n",
    "\n",
    "from sklearn.model_selection import train_test_split\n"
   ]
  },
  {
   "cell_type": "markdown",
   "id": "6dcbf1a6",
   "metadata": {},
   "source": [
    "### Documentation\n",
    "https://scikit-learn.org/stable/modules/generated/sklearn.model_selection.train_test_split.html"
   ]
  },
  {
   "cell_type": "code",
   "execution_count": 23,
   "id": "d9fa6ae3",
   "metadata": {},
   "outputs": [],
   "source": [
    "# train_test_split()\n",
    "\n",
    "X_train, X_test, Y_train, Y_test = train_test_split(X, Y, test_size = 0.12)"
   ]
  },
  {
   "cell_type": "code",
   "execution_count": 24,
   "id": "59533840",
   "metadata": {},
   "outputs": [
    {
     "name": "stdout",
     "output_type": "stream",
     "text": [
      "(156, 13)\n"
     ]
    }
   ],
   "source": [
    "# Let's see how its splitted\n",
    "print(X_train.shape)"
   ]
  },
  {
   "cell_type": "code",
   "execution_count": 25,
   "id": "a0eaf800",
   "metadata": {},
   "outputs": [
    {
     "name": "stdout",
     "output_type": "stream",
     "text": [
      "(22, 13)\n"
     ]
    }
   ],
   "source": [
    "print(X_test.shape)"
   ]
  },
  {
   "cell_type": "raw",
   "id": "1e8cbcea",
   "metadata": {},
   "source": [
    "We have successfully completed three steps Imported Data, Cleaned Data and Split Data into training and test Data.\n",
    "\n",
    "Let's move ahead and train out model."
   ]
  },
  {
   "cell_type": "markdown",
   "id": "45a2d5a9",
   "metadata": {},
   "source": [
    "## STEP 4 : MODEL TRAINING"
   ]
  },
  {
   "cell_type": "markdown",
   "id": "9a7cf1dd",
   "metadata": {},
   "source": [
    "Scikit Learn comes with predefined models and algorithms.\n",
    "Let's see how to import and apply the model.\n",
    "\n",
    "https://scikit-learn.org/stable/supervised_learning.html\n",
    "\n",
    "We will be using Nearest Neighbours Algorithm.\n",
    "https://scikit-learn.org/stable/modules/neighbors.html"
   ]
  },
  {
   "cell_type": "code",
   "execution_count": 26,
   "id": "0e048cb5",
   "metadata": {},
   "outputs": [],
   "source": [
    "#KNN Classifier. Try changing the n_neighbors\n",
    "\n",
    "from sklearn.neighbors import KNeighborsClassifier"
   ]
  },
  {
   "cell_type": "markdown",
   "id": "9cdc1067",
   "metadata": {},
   "source": [
    "Kneighbors algorithm is fairly easy to use.\n",
    "\n",
    "It simply tells the model - \" How many data points around me do i need to observe which class of wine i belong? \""
   ]
  },
  {
   "cell_type": "code",
   "execution_count": 27,
   "id": "27d35a72",
   "metadata": {},
   "outputs": [],
   "source": [
    "knn = KNeighborsClassifier(n_neighbors=3)"
   ]
  },
  {
   "cell_type": "markdown",
   "id": "30133073",
   "metadata": {},
   "source": [
    "Now, we will fit the data and train the model by passing X_train and Y_train."
   ]
  },
  {
   "cell_type": "code",
   "execution_count": 28,
   "id": "640c4bad",
   "metadata": {},
   "outputs": [
    {
     "data": {
      "text/plain": [
       "KNeighborsClassifier(n_neighbors=3)"
      ]
     },
     "execution_count": 28,
     "metadata": {},
     "output_type": "execute_result"
    }
   ],
   "source": [
    "knn.fit(X_train, Y_train)"
   ]
  },
  {
   "cell_type": "markdown",
   "id": "e7f5f68f",
   "metadata": {},
   "source": [
    "We have trained our model\n",
    "Let's predict and test our model for output"
   ]
  },
  {
   "cell_type": "markdown",
   "id": "a0870af4",
   "metadata": {},
   "source": [
    "## STEP 5 : PREDICTING OUTPUT"
   ]
  },
  {
   "cell_type": "code",
   "execution_count": 29,
   "id": "2ad5223d",
   "metadata": {},
   "outputs": [],
   "source": [
    "y_pred = knn.predict(X_test)"
   ]
  },
  {
   "cell_type": "markdown",
   "id": "b20fc97f",
   "metadata": {},
   "source": [
    "Now, we have to compare our outputs with the Y_test data that we had splitted.\n",
    " \n",
    "Luckily for our resource we have these things sorted by Scikit Learn.\n",
    "We have something called as metrics to evaluate out model."
   ]
  },
  {
   "cell_type": "code",
   "execution_count": 30,
   "id": "8c980538",
   "metadata": {},
   "outputs": [
    {
     "name": "stdout",
     "output_type": "stream",
     "text": [
      "0.6363636363636364\n"
     ]
    }
   ],
   "source": [
    "# Accuracy of our model based on our test output and prediction output\n",
    "\n",
    "from sklearn import metrics\n",
    "print(metrics.accuracy_score(Y_test, y_pred))"
   ]
  },
  {
   "cell_type": "markdown",
   "id": "df216f55",
   "metadata": {},
   "source": [
    "## STEP 6 : IMPROVING MODEL"
   ]
  },
  {
   "cell_type": "markdown",
   "id": "63db5586",
   "metadata": {},
   "source": [
    "Until now we have completed all the required steps.\n",
    "\n",
    "Our last step is to - \n",
    "Improve Our Model\n",
    "\n",
    "By using various classification algorithms.\n",
    "\n",
    "So, further we have use Decision Tree Algorithm for training and testing of data."
   ]
  },
  {
   "cell_type": "code",
   "execution_count": 31,
   "id": "9e965b7d",
   "metadata": {},
   "outputs": [],
   "source": [
    "# Decision Tree\n",
    "from sklearn.tree import DecisionTreeClassifier \n",
    "knn = DecisionTreeClassifier()"
   ]
  },
  {
   "cell_type": "code",
   "execution_count": 32,
   "id": "f51b424f",
   "metadata": {},
   "outputs": [
    {
     "data": {
      "text/plain": [
       "DecisionTreeClassifier()"
      ]
     },
     "execution_count": 32,
     "metadata": {},
     "output_type": "execute_result"
    }
   ],
   "source": [
    "knn.fit(X_train, Y_train)"
   ]
  },
  {
   "cell_type": "code",
   "execution_count": 33,
   "id": "9f3835b3",
   "metadata": {},
   "outputs": [],
   "source": [
    "pred_y = knn.predict(X_test)"
   ]
  },
  {
   "cell_type": "code",
   "execution_count": 34,
   "id": "43955175",
   "metadata": {},
   "outputs": [],
   "source": [
    "from sklearn import metrics"
   ]
  },
  {
   "cell_type": "code",
   "execution_count": 35,
   "id": "44203ab1",
   "metadata": {},
   "outputs": [
    {
     "name": "stdout",
     "output_type": "stream",
     "text": [
      "0.9090909090909091\n"
     ]
    }
   ],
   "source": [
    "print(metrics.accuracy_score(Y_test, pred_y))"
   ]
  },
  {
   "cell_type": "markdown",
   "id": "294e64ee",
   "metadata": {},
   "source": [
    "We have created our model. \n",
    "Suppose we want to use the model in future without training.\n",
    "\n",
    "Let's create a Sample data to test our model."
   ]
  },
  {
   "cell_type": "code",
   "execution_count": 36,
   "id": "5fe9afc9",
   "metadata": {},
   "outputs": [],
   "source": [
    " sample = [[1.32e+01, 1.78e+00, 2.14e+00, 1.12e+01, 1.00e+02, 2.65e+00,\n",
    "       2.76e+00, 2.60e-01, 1.28e+00, 4.38e+00, 1.05e+00, 3.40e+00,\n",
    "       1.05e+03], [1.317e+01, 2.590e+00, 2.370e+00, 2.000e+01, 1.200e+02, 1.650e+00,\n",
    "       6.800e-01, 5.300e-01, 1.460e+00, 9.300e+00, 6.000e-01, 1.620e+00,\n",
    "       8.400e+02]]\n"
   ]
  },
  {
   "cell_type": "code",
   "execution_count": 37,
   "id": "7fb88d2b",
   "metadata": {},
   "outputs": [],
   "source": [
    "predictions = knn.predict(sample)"
   ]
  },
  {
   "cell_type": "code",
   "execution_count": 38,
   "id": "bb81ea88",
   "metadata": {},
   "outputs": [],
   "source": [
    "predict_class = [wine.target_names[s] for s in predictions]"
   ]
  },
  {
   "cell_type": "code",
   "execution_count": 39,
   "id": "bfe6d998",
   "metadata": {},
   "outputs": [
    {
     "name": "stdout",
     "output_type": "stream",
     "text": [
      "Predictions:  ['class_0', 'class_2']\n"
     ]
    }
   ],
   "source": [
    "print(\"Predictions: \" , predict_class)"
   ]
  },
  {
   "cell_type": "markdown",
   "id": "6a999ac5",
   "metadata": {},
   "source": [
    "### Now our model is trained and we want to save our model for future predictions.\n",
    "\n",
    "For this purpose we have two things \n",
    "\n",
    "one is Dump\n",
    "other is Load\n",
    "\n",
    "We dump a model , means we are saving it somewhere.\n",
    "And next time to make predictions we save a model to a file and use that file for predictions.\n"
   ]
  },
  {
   "cell_type": "code",
   "execution_count": 46,
   "id": "bd13ca73",
   "metadata": {},
   "outputs": [],
   "source": [
    "from joblib import dump, load"
   ]
  },
  {
   "cell_type": "code",
   "execution_count": 47,
   "id": "2eb81ad2",
   "metadata": {},
   "outputs": [
    {
     "data": {
      "text/plain": [
       "[' mlbrain.joblib']"
      ]
     },
     "execution_count": 47,
     "metadata": {},
     "output_type": "execute_result"
    }
   ],
   "source": [
    "dump(knn, ' mlbrain.joblib')"
   ]
  },
  {
   "cell_type": "code",
   "execution_count": 48,
   "id": "21c722ba",
   "metadata": {},
   "outputs": [],
   "source": [
    "model = load(' mlbrain.joblib')"
   ]
  },
  {
   "cell_type": "code",
   "execution_count": 49,
   "id": "760b2eda",
   "metadata": {},
   "outputs": [
    {
     "name": "stdout",
     "output_type": "stream",
     "text": [
      "predictions:  ['class_0', 'class_2']\n"
     ]
    }
   ],
   "source": [
    "# Let's load the model\n",
    "model.predict(X_test)\n",
    "samplee = [[1.32e+01, 1.78e+00, 2.14e+00, 1.12e+01, 1.00e+02, 2.65e+00,\n",
    "       2.76e+00, 2.60e-01, 1.28e+00, 4.38e+00, 1.05e+00, 3.40e+00,\n",
    "       1.05e+03], [1.317e+01, 2.590e+00, 2.370e+00, 2.000e+01, 1.200e+02, 1.650e+00,\n",
    "       6.800e-01, 5.300e-01, 1.460e+00, 9.300e+00, 6.000e-01, 1.620e+00,\n",
    "       8.400e+02]]\n",
    "predictionss = model.predict(samplee)\n",
    "predict_class = [wine.target_names[s] for s in predictionss]\n",
    "print(\"predictions: \", predict_class)\n"
   ]
  },
  {
   "cell_type": "markdown",
   "id": "5649eaf2",
   "metadata": {},
   "source": [
    "### Let's plot the graph "
   ]
  },
  {
   "cell_type": "code",
   "execution_count": 50,
   "id": "29bab76e",
   "metadata": {},
   "outputs": [
    {
     "data": {
      "image/png": "[encoded data removed]",
      "text/plain": [
       "<Figure size 360x288 with 2 Axes>"
      ]
     },
     "metadata": {
      "needs_background": "light"
     },
     "output_type": "display_data"
    }
   ],
   "source": [
    "from sklearn.datasets import load_wine\n",
    "wine1 = load_wine() \n",
    "import matplotlib.pyplot as plt\n",
    "\n",
    "# The indices of the features that we are plotting\n",
    "x_index = 0\n",
    "y_index = 1\n",
    "\n",
    "# colorbar with the Iris target names\n",
    "formatter = plt.FuncFormatter(lambda i, *args: wine1.target_names[int(i)])\n",
    "\n",
    "#chart configurations\n",
    "plt.figure(figsize=(5, 4))\n",
    "plt.scatter(wine1.data[:, x_index], wine1.data[:, y_index], c=wine1.target)\n",
    "plt.colorbar(ticks=[0, 1, 2], format=formatter)\n",
    "plt.xlabel(wine1.feature_names[x_index])\n",
    "plt.ylabel(wine1.feature_names[y_index])\n",
    "\n",
    "plt.tight_layout()\n",
    "plt.show()"
   ]
  },
  {
   "cell_type": "code",
   "execution_count": 51,
   "id": "1fb8720c",
   "metadata": {},
   "outputs": [
    {
     "data": {
      "text/plain": [
       "<matplotlib.colorbar.Colorbar at 0x1968bd61640>"
      ]
     },
     "execution_count": 51,
     "metadata": {},
     "output_type": "execute_result"
    },
    {
     "data": {
      "image/png": "[encoded data removed]",
      "text/plain": [
       "<Figure size 432x288 with 2 Axes>"
      ]
     },
     "metadata": {
      "needs_background": "light"
     },
     "output_type": "display_data"
    }
   ],
   "source": [
    "features = wine1.data.T\n",
    "\n",
    "plt.scatter(features[2], features[5], alpha=0.1,\n",
    "            s=44*features[3], c=wine1.target, cmap='plasma') \n",
    "plt.xlabel(wine1.feature_names[2])\n",
    "plt.ylabel(wine1.feature_names[3]);\n",
    "plt.colorbar(ticks=[0, 1, 2], format=formatter)"
   ]
  },
  {
   "cell_type": "markdown",
   "id": "c34d9a61",
   "metadata": {},
   "source": [
    "### Finally , the Machine Learning Project has been completed. Do check it on my github, linkedin and medium profiles.\n",
    "https://github.com/snehalraysing\n",
    "\n",
    "https://www.linkedin.com/in/snehal-raysing-568a33227/\n",
    "\n",
    "https://medium.com/@snehalraysing9890\n",
    "\n"
   ]
  },
  {
   "cell_type": "code",
   "execution_count": null,
   "id": "feb3acc0",
   "metadata": {},
   "outputs": [],
   "source": []
  },
  {
   "cell_type": "code",
   "execution_count": null,
   "id": "625fec71",
   "metadata": {},
   "outputs": [],
   "source": []
  }
 ],
 "metadata": {
  "kernelspec": {
   "display_name": "Python 3 (ipykernel)",
   "language": "python",
   "name": "python3"
  },
  "language_info": {
   "codemirror_mode": {
    "name": "ipython",
    "version": 3
   },
   "file_extension": ".py",
   "mimetype": "text/x-python",
   "name": "python",
   "nbconvert_exporter": "python",
   "pygments_lexer": "ipython3",
   "version": "3.9.7"
  }
 },
 "nbformat": 4,
 "nbformat_minor": 5
}
